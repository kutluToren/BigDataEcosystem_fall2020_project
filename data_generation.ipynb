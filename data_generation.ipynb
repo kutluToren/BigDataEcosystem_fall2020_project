{
 "cells": [
  {
   "cell_type": "markdown",
   "metadata": {},
   "source": [
    "## Import Data"
   ]
  },
  {
   "cell_type": "code",
   "execution_count": 1,
   "metadata": {},
   "outputs": [],
   "source": [
    "import pandas as pd\n",
    "import numpy as np\n",
    "import random"
   ]
  },
  {
   "cell_type": "markdown",
   "metadata": {},
   "source": [
    "## Read the sample dataset to work on"
   ]
  },
  {
   "cell_type": "code",
   "execution_count": 2,
   "metadata": {},
   "outputs": [
    {
     "data": {
      "text/html": [
       "<div>\n",
       "<style scoped>\n",
       "    .dataframe tbody tr th:only-of-type {\n",
       "        vertical-align: middle;\n",
       "    }\n",
       "\n",
       "    .dataframe tbody tr th {\n",
       "        vertical-align: top;\n",
       "    }\n",
       "\n",
       "    .dataframe thead th {\n",
       "        text-align: right;\n",
       "    }\n",
       "</style>\n",
       "<table border=\"1\" class=\"dataframe\">\n",
       "  <thead>\n",
       "    <tr style=\"text-align: right;\">\n",
       "      <th></th>\n",
       "      <th>Age</th>\n",
       "      <th>Balance</th>\n",
       "      <th>Gender</th>\n",
       "      <th>Country</th>\n",
       "      <th>Premium</th>\n",
       "    </tr>\n",
       "  </thead>\n",
       "  <tbody>\n",
       "    <tr>\n",
       "      <th>0</th>\n",
       "      <td>18.0</td>\n",
       "      <td>20000.0</td>\n",
       "      <td>Male</td>\n",
       "      <td>Germany</td>\n",
       "      <td>N</td>\n",
       "    </tr>\n",
       "    <tr>\n",
       "      <th>1</th>\n",
       "      <td>19.0</td>\n",
       "      <td>22000.0</td>\n",
       "      <td>Female</td>\n",
       "      <td>France</td>\n",
       "      <td>N</td>\n",
       "    </tr>\n",
       "    <tr>\n",
       "      <th>2</th>\n",
       "      <td>20.0</td>\n",
       "      <td>24000.0</td>\n",
       "      <td>Female</td>\n",
       "      <td>England</td>\n",
       "      <td>N</td>\n",
       "    </tr>\n",
       "    <tr>\n",
       "      <th>3</th>\n",
       "      <td>21.0</td>\n",
       "      <td>NaN</td>\n",
       "      <td>Male</td>\n",
       "      <td>England</td>\n",
       "      <td>N</td>\n",
       "    </tr>\n",
       "    <tr>\n",
       "      <th>4</th>\n",
       "      <td>22.0</td>\n",
       "      <td>50000.0</td>\n",
       "      <td>Male</td>\n",
       "      <td>France</td>\n",
       "      <td>Y</td>\n",
       "    </tr>\n",
       "  </tbody>\n",
       "</table>\n",
       "</div>"
      ],
      "text/plain": [
       "    Age  Balance  Gender  Country Premium\n",
       "0  18.0  20000.0    Male  Germany       N\n",
       "1  19.0  22000.0  Female   France       N\n",
       "2  20.0  24000.0  Female  England       N\n",
       "3  21.0      NaN    Male  England       N\n",
       "4  22.0  50000.0    Male   France       Y"
      ]
     },
     "execution_count": 2,
     "metadata": {},
     "output_type": "execute_result"
    }
   ],
   "source": [
    "df = pd.read_csv(\"bank_prospects.csv\")\n",
    "\n",
    "#Rename 2 columns to make the data more like account information\n",
    "df.rename(columns={'Purchased':'Premium','Salary':'Balance'},inplace=True)\n",
    "\n",
    "df.head()"
   ]
  },
  {
   "cell_type": "code",
   "execution_count": 3,
   "metadata": {},
   "outputs": [
    {
     "data": {
      "text/plain": [
       "Age        float64\n",
       "Balance    float64\n",
       "Gender      object\n",
       "Country     object\n",
       "Premium     object\n",
       "dtype: object"
      ]
     },
     "execution_count": 3,
     "metadata": {},
     "output_type": "execute_result"
    }
   ],
   "source": [
    "df.dtypes"
   ]
  },
  {
   "cell_type": "markdown",
   "metadata": {},
   "source": [
    "## Generate random values to increase the size of the data\n",
    "\n",
    "We generate data using seeds to provide reproducibale outputs"
   ]
  },
  {
   "cell_type": "code",
   "execution_count": null,
   "metadata": {},
   "outputs": [],
   "source": [
    "country_array = [\"France\",\"Germany\",\"Belgium\",\"England\",\"Spain\",\"Italy\",\"Denmark\",\"Austria\",\"Holland\"];\n",
    "random_data_size = 10000000\n",
    "\n",
    "for i in range(random_data_size):\n",
    "    random.seed(52+i)\n",
    "    bal = random.randrange(5000,55000)\n",
    "    age = random.randrange(18,75)\n",
    "    gender = random.choice([\"Male\",\"Female\"])\n",
    "    country = random.choice(country_array)\n",
    "    premium = random.choice([\"N\",\"Y\"])\n",
    "    tmp=pd.DataFrame([{'Age':age,'Balance':bal,'Gender':gender,'Country':country,'Premium':premium}])\n",
    "    df = pd.concat([df,tmp], ignore_index=True)\n",
    "    \n",
    "    "
   ]
  },
  {
   "cell_type": "code",
   "execution_count": null,
   "metadata": {},
   "outputs": [],
   "source": [
    "df.describe"
   ]
  },
  {
   "cell_type": "markdown",
   "metadata": {},
   "source": [
    "## Insert NaN balance values and unknown country information"
   ]
  },
  {
   "cell_type": "code",
   "execution_count": null,
   "metadata": {},
   "outputs": [],
   "source": [
    "country_array = [\"France\",\"Germany\",\"Belgium\",\"England\",\"Spain\",\"Italy\",\"Denmark\",\"Austria\",\"Holland\"];\n",
    "\n",
    "#add 10 wrong NaN numbers for balance\n",
    "for i in range(10):\n",
    "    random.seed(10+i)\n",
    "    age = random.randrange(18,75)\n",
    "    gender = random.choice([\"Male\",\"Female\"])\n",
    "    country = random.choice(country_array)\n",
    "    premium = random.choice([\"N\",\"Y\"])\n",
    "    tmp=pd.DataFrame([{'Age':age,'Balance':np.nan,'Gender':gender,'Country':country,'Premium':premium}])\n",
    "    df = pd.concat([df,tmp], ignore_index=True)\n",
    "\n",
    "# add 10 countries with unknown value\n",
    "for i in range(10):\n",
    "    random.seed(25+i)\n",
    "    bal = random.randrange(5000,55000)\n",
    "    age = random.randrange(18,75)\n",
    "    gender = random.choice([\"Male\",\"Female\"])\n",
    "    premium = random.choice([\"N\",\"Y\"])\n",
    "    tmp=pd.DataFrame([{'Age':age,'Balance':bal,'Gender':gender,'Country':\"unknown\",'Premium':premium}])\n",
    "    df = pd.concat([df,tmp], ignore_index=True)  \n",
    "\n",
    "df.describe"
   ]
  },
  {
   "cell_type": "code",
   "execution_count": null,
   "metadata": {},
   "outputs": [],
   "source": [
    "# Shuffle the dataset\n",
    "df = df.sample(frac=1)\n",
    "df.describe"
   ]
  },
  {
   "cell_type": "markdown",
   "metadata": {},
   "source": [
    "## Write the data into \"bank_data.csv\""
   ]
  },
  {
   "cell_type": "code",
   "execution_count": null,
   "metadata": {},
   "outputs": [],
   "source": [
    "df.to_csv(\"bank_data_{}.csv\".format(random_data_size),index=False)"
   ]
  },
  {
   "cell_type": "code",
   "execution_count": null,
   "metadata": {},
   "outputs": [],
   "source": []
  }
 ],
 "metadata": {
  "kernelspec": {
   "display_name": "Python 3",
   "language": "python",
   "name": "python3"
  },
  "language_info": {
   "codemirror_mode": {
    "name": "ipython",
    "version": 3
   },
   "file_extension": ".py",
   "mimetype": "text/x-python",
   "name": "python",
   "nbconvert_exporter": "python",
   "pygments_lexer": "ipython3",
   "version": "3.9.0"
  }
 },
 "nbformat": 4,
 "nbformat_minor": 4
}
